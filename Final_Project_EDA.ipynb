{
 "cells": [
  {
   "cell_type": "code",
   "execution_count": 9,
   "id": "f07a1913",
   "metadata": {
    "ExecuteTime": {
     "end_time": "2022-12-20T21:08:20.279295Z",
     "start_time": "2022-12-20T21:08:20.267300Z"
    }
   },
   "outputs": [],
   "source": [
    "import pandas as pd\n",
    "import numpy as np\n",
    "from scipy.stats import zscore\n",
    "import seaborn as sns\n",
    "import matplotlib.pyplot as plt"
   ]
  },
  {
   "cell_type": "code",
   "execution_count": 11,
   "id": "10cd6885",
   "metadata": {
    "ExecuteTime": {
     "end_time": "2022-12-20T21:09:39.299587Z",
     "start_time": "2022-12-20T21:09:36.551771Z"
    }
   },
   "outputs": [],
   "source": [
    "df_ratings = pd.read_csv(\"BX-Book-Ratings.csv\", sep=\";\", encoding='ISO-8859–1',low_memory=False)\n",
    "df_books = pd.read_csv(\"BX-Books.csv\", sep=\";\", encoding='ISO-8859–1', on_bad_lines='skip',low_memory=False)\n",
    "df_users = pd.read_csv(\"BX-Users.csv\", sep=\";\", encoding='ISO-8859–1',low_memory=False)"
   ]
  },
  {
   "cell_type": "code",
   "execution_count": 12,
   "id": "9ce78454",
   "metadata": {
    "ExecuteTime": {
     "end_time": "2022-12-20T21:10:16.082042Z",
     "start_time": "2022-12-20T21:10:16.068079Z"
    }
   },
   "outputs": [
    {
     "data": {
      "text/html": [
       "<div>\n",
       "<style scoped>\n",
       "    .dataframe tbody tr th:only-of-type {\n",
       "        vertical-align: middle;\n",
       "    }\n",
       "\n",
       "    .dataframe tbody tr th {\n",
       "        vertical-align: top;\n",
       "    }\n",
       "\n",
       "    .dataframe thead th {\n",
       "        text-align: right;\n",
       "    }\n",
       "</style>\n",
       "<table border=\"1\" class=\"dataframe\">\n",
       "  <thead>\n",
       "    <tr style=\"text-align: right;\">\n",
       "      <th></th>\n",
       "      <th>User-ID</th>\n",
       "      <th>ISBN</th>\n",
       "      <th>Book-Rating</th>\n",
       "    </tr>\n",
       "  </thead>\n",
       "  <tbody>\n",
       "    <tr>\n",
       "      <th>0</th>\n",
       "      <td>276725</td>\n",
       "      <td>034545104X</td>\n",
       "      <td>0</td>\n",
       "    </tr>\n",
       "    <tr>\n",
       "      <th>1</th>\n",
       "      <td>276726</td>\n",
       "      <td>0155061224</td>\n",
       "      <td>5</td>\n",
       "    </tr>\n",
       "    <tr>\n",
       "      <th>2</th>\n",
       "      <td>276727</td>\n",
       "      <td>0446520802</td>\n",
       "      <td>0</td>\n",
       "    </tr>\n",
       "    <tr>\n",
       "      <th>3</th>\n",
       "      <td>276729</td>\n",
       "      <td>052165615X</td>\n",
       "      <td>3</td>\n",
       "    </tr>\n",
       "    <tr>\n",
       "      <th>4</th>\n",
       "      <td>276729</td>\n",
       "      <td>0521795028</td>\n",
       "      <td>6</td>\n",
       "    </tr>\n",
       "    <tr>\n",
       "      <th>...</th>\n",
       "      <td>...</td>\n",
       "      <td>...</td>\n",
       "      <td>...</td>\n",
       "    </tr>\n",
       "    <tr>\n",
       "      <th>1149775</th>\n",
       "      <td>276704</td>\n",
       "      <td>1563526298</td>\n",
       "      <td>9</td>\n",
       "    </tr>\n",
       "    <tr>\n",
       "      <th>1149776</th>\n",
       "      <td>276706</td>\n",
       "      <td>0679447156</td>\n",
       "      <td>0</td>\n",
       "    </tr>\n",
       "    <tr>\n",
       "      <th>1149777</th>\n",
       "      <td>276709</td>\n",
       "      <td>0515107662</td>\n",
       "      <td>10</td>\n",
       "    </tr>\n",
       "    <tr>\n",
       "      <th>1149778</th>\n",
       "      <td>276721</td>\n",
       "      <td>0590442449</td>\n",
       "      <td>10</td>\n",
       "    </tr>\n",
       "    <tr>\n",
       "      <th>1149779</th>\n",
       "      <td>276723</td>\n",
       "      <td>05162443314</td>\n",
       "      <td>8</td>\n",
       "    </tr>\n",
       "  </tbody>\n",
       "</table>\n",
       "<p>1149780 rows × 3 columns</p>\n",
       "</div>"
      ],
      "text/plain": [
       "         User-ID         ISBN  Book-Rating\n",
       "0         276725   034545104X            0\n",
       "1         276726   0155061224            5\n",
       "2         276727   0446520802            0\n",
       "3         276729   052165615X            3\n",
       "4         276729   0521795028            6\n",
       "...          ...          ...          ...\n",
       "1149775   276704   1563526298            9\n",
       "1149776   276706   0679447156            0\n",
       "1149777   276709   0515107662           10\n",
       "1149778   276721   0590442449           10\n",
       "1149779   276723  05162443314            8\n",
       "\n",
       "[1149780 rows x 3 columns]"
      ]
     },
     "execution_count": 12,
     "metadata": {},
     "output_type": "execute_result"
    }
   ],
   "source": [
    "df_ratings"
   ]
  },
  {
   "cell_type": "code",
   "execution_count": 13,
   "id": "73d01fbe",
   "metadata": {
    "ExecuteTime": {
     "end_time": "2022-12-20T21:10:17.546285Z",
     "start_time": "2022-12-20T21:10:17.536312Z"
    }
   },
   "outputs": [],
   "source": [
    "#df_books.drop([\"Image-URL-S\", \"Image-URL-M\", \"Image-URL-L\"], axis=1, inplace=True)"
   ]
  },
  {
   "cell_type": "markdown",
   "id": "e818f66d",
   "metadata": {},
   "source": [
    "## Describe Datasets"
   ]
  },
  {
   "cell_type": "code",
   "execution_count": 14,
   "id": "02a32e1c",
   "metadata": {
    "ExecuteTime": {
     "end_time": "2022-12-20T21:10:18.283943Z",
     "start_time": "2022-12-20T21:10:18.265990Z"
    }
   },
   "outputs": [
    {
     "name": "stdout",
     "output_type": "stream",
     "text": [
      "User-ID         int64\n",
      "ISBN           object\n",
      "Book-Rating     int64\n",
      "dtype: object\n",
      "--------------------------------\n",
      "ISBN                   object\n",
      "Book-Title             object\n",
      "Book-Author            object\n",
      "Year-Of-Publication    object\n",
      "Publisher              object\n",
      "Image-URL-S            object\n",
      "Image-URL-M            object\n",
      "Image-URL-L            object\n",
      "dtype: object\n",
      "--------------------------------\n",
      "User-ID       int64\n",
      "Location     object\n",
      "Age         float64\n",
      "dtype: object\n",
      "--------------------------------\n"
     ]
    }
   ],
   "source": [
    "print(df_ratings.dtypes)\n",
    "print(\"--------------------------------\")\n",
    "print(df_books.dtypes)\n",
    "print(\"--------------------------------\")\n",
    "print(df_users.dtypes)\n",
    "print(\"--------------------------------\")"
   ]
  },
  {
   "cell_type": "code",
   "execution_count": 15,
   "id": "8313376e",
   "metadata": {
    "ExecuteTime": {
     "end_time": "2022-12-20T21:10:21.871720Z",
     "start_time": "2022-12-20T21:10:21.765494Z"
    }
   },
   "outputs": [
    {
     "name": "stdout",
     "output_type": "stream",
     "text": [
      "(1149780, 3)\n",
      "            User-ID   Book-Rating\n",
      "count  1.149780e+06  1.149780e+06\n",
      "mean   1.403864e+05  2.866950e+00\n",
      "std    8.056228e+04  3.854184e+00\n",
      "min    2.000000e+00  0.000000e+00\n",
      "25%    7.034500e+04  0.000000e+00\n",
      "50%    1.410100e+05  0.000000e+00\n",
      "75%    2.110280e+05  7.000000e+00\n",
      "max    2.788540e+05  1.000000e+01\n"
     ]
    },
    {
     "data": {
      "text/html": [
       "<div>\n",
       "<style scoped>\n",
       "    .dataframe tbody tr th:only-of-type {\n",
       "        vertical-align: middle;\n",
       "    }\n",
       "\n",
       "    .dataframe tbody tr th {\n",
       "        vertical-align: top;\n",
       "    }\n",
       "\n",
       "    .dataframe thead th {\n",
       "        text-align: right;\n",
       "    }\n",
       "</style>\n",
       "<table border=\"1\" class=\"dataframe\">\n",
       "  <thead>\n",
       "    <tr style=\"text-align: right;\">\n",
       "      <th></th>\n",
       "      <th>User-ID</th>\n",
       "      <th>ISBN</th>\n",
       "      <th>Book-Rating</th>\n",
       "    </tr>\n",
       "  </thead>\n",
       "  <tbody>\n",
       "    <tr>\n",
       "      <th>0</th>\n",
       "      <td>276725</td>\n",
       "      <td>034545104X</td>\n",
       "      <td>0</td>\n",
       "    </tr>\n",
       "    <tr>\n",
       "      <th>1</th>\n",
       "      <td>276726</td>\n",
       "      <td>0155061224</td>\n",
       "      <td>5</td>\n",
       "    </tr>\n",
       "    <tr>\n",
       "      <th>2</th>\n",
       "      <td>276727</td>\n",
       "      <td>0446520802</td>\n",
       "      <td>0</td>\n",
       "    </tr>\n",
       "    <tr>\n",
       "      <th>3</th>\n",
       "      <td>276729</td>\n",
       "      <td>052165615X</td>\n",
       "      <td>3</td>\n",
       "    </tr>\n",
       "    <tr>\n",
       "      <th>4</th>\n",
       "      <td>276729</td>\n",
       "      <td>0521795028</td>\n",
       "      <td>6</td>\n",
       "    </tr>\n",
       "  </tbody>\n",
       "</table>\n",
       "</div>"
      ],
      "text/plain": [
       "   User-ID        ISBN  Book-Rating\n",
       "0   276725  034545104X            0\n",
       "1   276726  0155061224            5\n",
       "2   276727  0446520802            0\n",
       "3   276729  052165615X            3\n",
       "4   276729  0521795028            6"
      ]
     },
     "execution_count": 15,
     "metadata": {},
     "output_type": "execute_result"
    }
   ],
   "source": [
    "print(df_ratings.shape)\n",
    "print(df_ratings.describe())\n",
    "df_ratings.head()"
   ]
  },
  {
   "cell_type": "code",
   "execution_count": 16,
   "id": "53ea4b97",
   "metadata": {
    "ExecuteTime": {
     "end_time": "2022-12-20T21:10:28.465435Z",
     "start_time": "2022-12-20T21:10:26.924118Z"
    }
   },
   "outputs": [
    {
     "name": "stdout",
     "output_type": "stream",
     "text": [
      "(271360, 8)\n",
      "              ISBN      Book-Title      Book-Author Year-Of-Publication  \\\n",
      "count       271360          271360           271359              271360   \n",
      "unique      271360          242135           102023                 118   \n",
      "top     0195153448  Selected Poems  Agatha Christie                2002   \n",
      "freq             1              27              632               17627   \n",
      "\n",
      "        Publisher                                        Image-URL-S  \\\n",
      "count      271358                                             271360   \n",
      "unique      16807                                             271044   \n",
      "top     Harlequin  http://images.amazon.com/images/P/185326119X.0...   \n",
      "freq         7535                                                  2   \n",
      "\n",
      "                                              Image-URL-M  \\\n",
      "count                                              271360   \n",
      "unique                                             271044   \n",
      "top     http://images.amazon.com/images/P/185326119X.0...   \n",
      "freq                                                    2   \n",
      "\n",
      "                                              Image-URL-L  \n",
      "count                                              271357  \n",
      "unique                                             271041  \n",
      "top     http://images.amazon.com/images/P/225307649X.0...  \n",
      "freq                                                    2  \n"
     ]
    },
    {
     "data": {
      "text/html": [
       "<div>\n",
       "<style scoped>\n",
       "    .dataframe tbody tr th:only-of-type {\n",
       "        vertical-align: middle;\n",
       "    }\n",
       "\n",
       "    .dataframe tbody tr th {\n",
       "        vertical-align: top;\n",
       "    }\n",
       "\n",
       "    .dataframe thead th {\n",
       "        text-align: right;\n",
       "    }\n",
       "</style>\n",
       "<table border=\"1\" class=\"dataframe\">\n",
       "  <thead>\n",
       "    <tr style=\"text-align: right;\">\n",
       "      <th></th>\n",
       "      <th>ISBN</th>\n",
       "      <th>Book-Title</th>\n",
       "      <th>Book-Author</th>\n",
       "      <th>Year-Of-Publication</th>\n",
       "      <th>Publisher</th>\n",
       "      <th>Image-URL-S</th>\n",
       "      <th>Image-URL-M</th>\n",
       "      <th>Image-URL-L</th>\n",
       "    </tr>\n",
       "  </thead>\n",
       "  <tbody>\n",
       "    <tr>\n",
       "      <th>0</th>\n",
       "      <td>0195153448</td>\n",
       "      <td>Classical Mythology</td>\n",
       "      <td>Mark P. O. Morford</td>\n",
       "      <td>2002</td>\n",
       "      <td>Oxford University Press</td>\n",
       "      <td>http://images.amazon.com/images/P/0195153448.0...</td>\n",
       "      <td>http://images.amazon.com/images/P/0195153448.0...</td>\n",
       "      <td>http://images.amazon.com/images/P/0195153448.0...</td>\n",
       "    </tr>\n",
       "    <tr>\n",
       "      <th>1</th>\n",
       "      <td>0002005018</td>\n",
       "      <td>Clara Callan</td>\n",
       "      <td>Richard Bruce Wright</td>\n",
       "      <td>2001</td>\n",
       "      <td>HarperFlamingo Canada</td>\n",
       "      <td>http://images.amazon.com/images/P/0002005018.0...</td>\n",
       "      <td>http://images.amazon.com/images/P/0002005018.0...</td>\n",
       "      <td>http://images.amazon.com/images/P/0002005018.0...</td>\n",
       "    </tr>\n",
       "    <tr>\n",
       "      <th>2</th>\n",
       "      <td>0060973129</td>\n",
       "      <td>Decision in Normandy</td>\n",
       "      <td>Carlo D'Este</td>\n",
       "      <td>1991</td>\n",
       "      <td>HarperPerennial</td>\n",
       "      <td>http://images.amazon.com/images/P/0060973129.0...</td>\n",
       "      <td>http://images.amazon.com/images/P/0060973129.0...</td>\n",
       "      <td>http://images.amazon.com/images/P/0060973129.0...</td>\n",
       "    </tr>\n",
       "    <tr>\n",
       "      <th>3</th>\n",
       "      <td>0374157065</td>\n",
       "      <td>Flu: The Story of the Great Influenza Pandemic...</td>\n",
       "      <td>Gina Bari Kolata</td>\n",
       "      <td>1999</td>\n",
       "      <td>Farrar Straus Giroux</td>\n",
       "      <td>http://images.amazon.com/images/P/0374157065.0...</td>\n",
       "      <td>http://images.amazon.com/images/P/0374157065.0...</td>\n",
       "      <td>http://images.amazon.com/images/P/0374157065.0...</td>\n",
       "    </tr>\n",
       "    <tr>\n",
       "      <th>4</th>\n",
       "      <td>0393045218</td>\n",
       "      <td>The Mummies of Urumchi</td>\n",
       "      <td>E. J. W. Barber</td>\n",
       "      <td>1999</td>\n",
       "      <td>W. W. Norton &amp;amp; Company</td>\n",
       "      <td>http://images.amazon.com/images/P/0393045218.0...</td>\n",
       "      <td>http://images.amazon.com/images/P/0393045218.0...</td>\n",
       "      <td>http://images.amazon.com/images/P/0393045218.0...</td>\n",
       "    </tr>\n",
       "  </tbody>\n",
       "</table>\n",
       "</div>"
      ],
      "text/plain": [
       "         ISBN                                         Book-Title  \\\n",
       "0  0195153448                                Classical Mythology   \n",
       "1  0002005018                                       Clara Callan   \n",
       "2  0060973129                               Decision in Normandy   \n",
       "3  0374157065  Flu: The Story of the Great Influenza Pandemic...   \n",
       "4  0393045218                             The Mummies of Urumchi   \n",
       "\n",
       "            Book-Author Year-Of-Publication                   Publisher  \\\n",
       "0    Mark P. O. Morford                2002     Oxford University Press   \n",
       "1  Richard Bruce Wright                2001       HarperFlamingo Canada   \n",
       "2          Carlo D'Este                1991             HarperPerennial   \n",
       "3      Gina Bari Kolata                1999        Farrar Straus Giroux   \n",
       "4       E. J. W. Barber                1999  W. W. Norton &amp; Company   \n",
       "\n",
       "                                         Image-URL-S  \\\n",
       "0  http://images.amazon.com/images/P/0195153448.0...   \n",
       "1  http://images.amazon.com/images/P/0002005018.0...   \n",
       "2  http://images.amazon.com/images/P/0060973129.0...   \n",
       "3  http://images.amazon.com/images/P/0374157065.0...   \n",
       "4  http://images.amazon.com/images/P/0393045218.0...   \n",
       "\n",
       "                                         Image-URL-M  \\\n",
       "0  http://images.amazon.com/images/P/0195153448.0...   \n",
       "1  http://images.amazon.com/images/P/0002005018.0...   \n",
       "2  http://images.amazon.com/images/P/0060973129.0...   \n",
       "3  http://images.amazon.com/images/P/0374157065.0...   \n",
       "4  http://images.amazon.com/images/P/0393045218.0...   \n",
       "\n",
       "                                         Image-URL-L  \n",
       "0  http://images.amazon.com/images/P/0195153448.0...  \n",
       "1  http://images.amazon.com/images/P/0002005018.0...  \n",
       "2  http://images.amazon.com/images/P/0060973129.0...  \n",
       "3  http://images.amazon.com/images/P/0374157065.0...  \n",
       "4  http://images.amazon.com/images/P/0393045218.0...  "
      ]
     },
     "execution_count": 16,
     "metadata": {},
     "output_type": "execute_result"
    }
   ],
   "source": [
    "print(df_books.shape)\n",
    "print(df_books.describe())\n",
    "df_books.head()"
   ]
  },
  {
   "cell_type": "code",
   "execution_count": 17,
   "id": "e80e17fa",
   "metadata": {
    "ExecuteTime": {
     "end_time": "2022-12-20T21:10:28.732255Z",
     "start_time": "2022-12-20T21:10:28.678397Z"
    }
   },
   "outputs": [
    {
     "name": "stdout",
     "output_type": "stream",
     "text": [
      "(278858, 3)\n",
      "            User-ID            Age\n",
      "count  278858.00000  168096.000000\n",
      "mean   139429.50000      34.751434\n",
      "std     80499.51502      14.428097\n",
      "min         1.00000       0.000000\n",
      "25%     69715.25000      24.000000\n",
      "50%    139429.50000      32.000000\n",
      "75%    209143.75000      44.000000\n",
      "max    278858.00000     244.000000\n"
     ]
    },
    {
     "data": {
      "text/html": [
       "<div>\n",
       "<style scoped>\n",
       "    .dataframe tbody tr th:only-of-type {\n",
       "        vertical-align: middle;\n",
       "    }\n",
       "\n",
       "    .dataframe tbody tr th {\n",
       "        vertical-align: top;\n",
       "    }\n",
       "\n",
       "    .dataframe thead th {\n",
       "        text-align: right;\n",
       "    }\n",
       "</style>\n",
       "<table border=\"1\" class=\"dataframe\">\n",
       "  <thead>\n",
       "    <tr style=\"text-align: right;\">\n",
       "      <th></th>\n",
       "      <th>User-ID</th>\n",
       "      <th>Location</th>\n",
       "      <th>Age</th>\n",
       "    </tr>\n",
       "  </thead>\n",
       "  <tbody>\n",
       "    <tr>\n",
       "      <th>0</th>\n",
       "      <td>1</td>\n",
       "      <td>nyc, new york, usa</td>\n",
       "      <td>NaN</td>\n",
       "    </tr>\n",
       "    <tr>\n",
       "      <th>1</th>\n",
       "      <td>2</td>\n",
       "      <td>stockton, california, usa</td>\n",
       "      <td>18.0</td>\n",
       "    </tr>\n",
       "    <tr>\n",
       "      <th>2</th>\n",
       "      <td>3</td>\n",
       "      <td>moscow, yukon territory, russia</td>\n",
       "      <td>NaN</td>\n",
       "    </tr>\n",
       "    <tr>\n",
       "      <th>3</th>\n",
       "      <td>4</td>\n",
       "      <td>porto, v.n.gaia, portugal</td>\n",
       "      <td>17.0</td>\n",
       "    </tr>\n",
       "    <tr>\n",
       "      <th>4</th>\n",
       "      <td>5</td>\n",
       "      <td>farnborough, hants, united kingdom</td>\n",
       "      <td>NaN</td>\n",
       "    </tr>\n",
       "  </tbody>\n",
       "</table>\n",
       "</div>"
      ],
      "text/plain": [
       "   User-ID                            Location   Age\n",
       "0        1                  nyc, new york, usa   NaN\n",
       "1        2           stockton, california, usa  18.0\n",
       "2        3     moscow, yukon territory, russia   NaN\n",
       "3        4           porto, v.n.gaia, portugal  17.0\n",
       "4        5  farnborough, hants, united kingdom   NaN"
      ]
     },
     "execution_count": 17,
     "metadata": {},
     "output_type": "execute_result"
    }
   ],
   "source": [
    "print(df_users.shape)\n",
    "print(df_users.describe())\n",
    "df_users.head()"
   ]
  },
  {
   "cell_type": "markdown",
   "id": "40d88424",
   "metadata": {},
   "source": [
    "## Book Popularity , Author Popularity"
   ]
  },
  {
   "cell_type": "code",
   "execution_count": 18,
   "id": "e49bd58f",
   "metadata": {
    "ExecuteTime": {
     "end_time": "2022-12-20T21:10:30.838966Z",
     "start_time": "2022-12-20T21:10:30.646449Z"
    }
   },
   "outputs": [
    {
     "data": {
      "text/html": [
       "<div>\n",
       "<style scoped>\n",
       "    .dataframe tbody tr th:only-of-type {\n",
       "        vertical-align: middle;\n",
       "    }\n",
       "\n",
       "    .dataframe tbody tr th {\n",
       "        vertical-align: top;\n",
       "    }\n",
       "\n",
       "    .dataframe thead th {\n",
       "        text-align: right;\n",
       "    }\n",
       "</style>\n",
       "<table border=\"1\" class=\"dataframe\">\n",
       "  <thead>\n",
       "    <tr style=\"text-align: right;\">\n",
       "      <th></th>\n",
       "      <th>User-ID</th>\n",
       "      <th>ISBN</th>\n",
       "      <th>Book-Rating</th>\n",
       "    </tr>\n",
       "  </thead>\n",
       "  <tbody>\n",
       "    <tr>\n",
       "      <th>714920</th>\n",
       "      <td>173291</td>\n",
       "      <td>0590460609</td>\n",
       "      <td>10</td>\n",
       "    </tr>\n",
       "    <tr>\n",
       "      <th>439695</th>\n",
       "      <td>105221</td>\n",
       "      <td>0590353403</td>\n",
       "      <td>10</td>\n",
       "    </tr>\n",
       "    <tr>\n",
       "      <th>439659</th>\n",
       "      <td>105214</td>\n",
       "      <td>1573220221</td>\n",
       "      <td>10</td>\n",
       "    </tr>\n",
       "    <tr>\n",
       "      <th>113491</th>\n",
       "      <td>26421</td>\n",
       "      <td>1558743669</td>\n",
       "      <td>10</td>\n",
       "    </tr>\n",
       "    <tr>\n",
       "      <th>439664</th>\n",
       "      <td>105221</td>\n",
       "      <td>0064407667</td>\n",
       "      <td>10</td>\n",
       "    </tr>\n",
       "    <tr>\n",
       "      <th>...</th>\n",
       "      <td>...</td>\n",
       "      <td>...</td>\n",
       "      <td>...</td>\n",
       "    </tr>\n",
       "    <tr>\n",
       "      <th>484342</th>\n",
       "      <td>115120</td>\n",
       "      <td>0671026852</td>\n",
       "      <td>0</td>\n",
       "    </tr>\n",
       "    <tr>\n",
       "      <th>484343</th>\n",
       "      <td>115120</td>\n",
       "      <td>0671026860</td>\n",
       "      <td>0</td>\n",
       "    </tr>\n",
       "    <tr>\n",
       "      <th>484344</th>\n",
       "      <td>115120</td>\n",
       "      <td>0671027514</td>\n",
       "      <td>0</td>\n",
       "    </tr>\n",
       "    <tr>\n",
       "      <th>484345</th>\n",
       "      <td>115120</td>\n",
       "      <td>0671027522</td>\n",
       "      <td>0</td>\n",
       "    </tr>\n",
       "    <tr>\n",
       "      <th>574890</th>\n",
       "      <td>138366</td>\n",
       "      <td>0373764391</td>\n",
       "      <td>0</td>\n",
       "    </tr>\n",
       "  </tbody>\n",
       "</table>\n",
       "<p>1149780 rows × 3 columns</p>\n",
       "</div>"
      ],
      "text/plain": [
       "        User-ID        ISBN  Book-Rating\n",
       "714920   173291  0590460609           10\n",
       "439695   105221  0590353403           10\n",
       "439659   105214  1573220221           10\n",
       "113491    26421  1558743669           10\n",
       "439664   105221  0064407667           10\n",
       "...         ...         ...          ...\n",
       "484342   115120  0671026852            0\n",
       "484343   115120  0671026860            0\n",
       "484344   115120  0671027514            0\n",
       "484345   115120  0671027522            0\n",
       "574890   138366  0373764391            0\n",
       "\n",
       "[1149780 rows x 3 columns]"
      ]
     },
     "execution_count": 18,
     "metadata": {},
     "output_type": "execute_result"
    }
   ],
   "source": [
    "df_ratings.sort_values(\"Book-Rating\", ascending=False)"
   ]
  },
  {
   "cell_type": "code",
   "execution_count": 19,
   "id": "271339a3",
   "metadata": {
    "ExecuteTime": {
     "end_time": "2022-12-20T21:10:32.584336Z",
     "start_time": "2022-12-20T21:10:31.784475Z"
    }
   },
   "outputs": [],
   "source": [
    "df_ratings_grouped = df_ratings.groupby(\"ISBN\")[[\"ISBN\", \"Book-Rating\"]].mean().reset_index()"
   ]
  },
  {
   "cell_type": "code",
   "execution_count": 20,
   "id": "e7317169",
   "metadata": {
    "ExecuteTime": {
     "end_time": "2022-12-20T21:10:32.695042Z",
     "start_time": "2022-12-20T21:10:32.586332Z"
    }
   },
   "outputs": [
    {
     "data": {
      "text/html": [
       "<div>\n",
       "<style scoped>\n",
       "    .dataframe tbody tr th:only-of-type {\n",
       "        vertical-align: middle;\n",
       "    }\n",
       "\n",
       "    .dataframe tbody tr th {\n",
       "        vertical-align: top;\n",
       "    }\n",
       "\n",
       "    .dataframe thead th {\n",
       "        text-align: right;\n",
       "    }\n",
       "</style>\n",
       "<table border=\"1\" class=\"dataframe\">\n",
       "  <thead>\n",
       "    <tr style=\"text-align: right;\">\n",
       "      <th></th>\n",
       "      <th>ISBN</th>\n",
       "      <th>Book-Rating</th>\n",
       "    </tr>\n",
       "  </thead>\n",
       "  <tbody>\n",
       "    <tr>\n",
       "      <th>226259</th>\n",
       "      <td>0874477050</td>\n",
       "      <td>10.0</td>\n",
       "    </tr>\n",
       "    <tr>\n",
       "      <th>311209</th>\n",
       "      <td>561002010</td>\n",
       "      <td>10.0</td>\n",
       "    </tr>\n",
       "    <tr>\n",
       "      <th>147976</th>\n",
       "      <td>0590939874</td>\n",
       "      <td>10.0</td>\n",
       "    </tr>\n",
       "    <tr>\n",
       "      <th>261695</th>\n",
       "      <td>1570761914</td>\n",
       "      <td>10.0</td>\n",
       "    </tr>\n",
       "    <tr>\n",
       "      <th>311223</th>\n",
       "      <td>56500624X</td>\n",
       "      <td>10.0</td>\n",
       "    </tr>\n",
       "    <tr>\n",
       "      <th>...</th>\n",
       "      <td>...</td>\n",
       "      <td>...</td>\n",
       "    </tr>\n",
       "    <tr>\n",
       "      <th>224180</th>\n",
       "      <td>0866838937</td>\n",
       "      <td>0.0</td>\n",
       "    </tr>\n",
       "    <tr>\n",
       "      <th>224181</th>\n",
       "      <td>0866839070</td>\n",
       "      <td>0.0</td>\n",
       "    </tr>\n",
       "    <tr>\n",
       "      <th>224182</th>\n",
       "      <td>0866839100</td>\n",
       "      <td>0.0</td>\n",
       "    </tr>\n",
       "    <tr>\n",
       "      <th>224183</th>\n",
       "      <td>0866839453</td>\n",
       "      <td>0.0</td>\n",
       "    </tr>\n",
       "    <tr>\n",
       "      <th>97853</th>\n",
       "      <td>0439216397</td>\n",
       "      <td>0.0</td>\n",
       "    </tr>\n",
       "  </tbody>\n",
       "</table>\n",
       "<p>340556 rows × 2 columns</p>\n",
       "</div>"
      ],
      "text/plain": [
       "              ISBN  Book-Rating\n",
       "226259  0874477050         10.0\n",
       "311209   561002010         10.0\n",
       "147976  0590939874         10.0\n",
       "261695  1570761914         10.0\n",
       "311223   56500624X         10.0\n",
       "...            ...          ...\n",
       "224180  0866838937          0.0\n",
       "224181  0866839070          0.0\n",
       "224182  0866839100          0.0\n",
       "224183  0866839453          0.0\n",
       "97853   0439216397          0.0\n",
       "\n",
       "[340556 rows x 2 columns]"
      ]
     },
     "execution_count": 20,
     "metadata": {},
     "output_type": "execute_result"
    }
   ],
   "source": [
    "df_ratings_grouped.sort_values(\"Book-Rating\", ascending=False )"
   ]
  },
  {
   "cell_type": "code",
   "execution_count": 21,
   "id": "1b6c89f7",
   "metadata": {
    "ExecuteTime": {
     "end_time": "2022-12-20T21:10:33.985742Z",
     "start_time": "2022-12-20T21:10:33.646347Z"
    }
   },
   "outputs": [],
   "source": [
    "df_merged1 = df_books.merge(df_ratings_grouped, left_on=\"ISBN\", right_on=\"ISBN\", how=\"inner\")"
   ]
  },
  {
   "cell_type": "code",
   "execution_count": 22,
   "id": "4b903956",
   "metadata": {
    "ExecuteTime": {
     "end_time": "2022-12-20T21:10:34.678411Z",
     "start_time": "2022-12-20T21:10:34.567251Z"
    }
   },
   "outputs": [
    {
     "name": "stdout",
     "output_type": "stream",
     "text": [
      "ISBN 0\n",
      "Book-Title 0\n",
      "Book-Author 1\n",
      "Year-Of-Publication 0\n",
      "Publisher 2\n",
      "Image-URL-S 0\n",
      "Image-URL-M 0\n",
      "Image-URL-L 3\n",
      "Book-Rating 0\n"
     ]
    }
   ],
   "source": [
    "for col in df_merged1.columns:\n",
    "    print(col,df_merged1[col].isna().sum())"
   ]
  },
  {
   "cell_type": "code",
   "execution_count": 23,
   "id": "9e425a15",
   "metadata": {
    "ExecuteTime": {
     "end_time": "2022-12-20T21:10:35.886880Z",
     "start_time": "2022-12-20T21:10:35.819061Z"
    }
   },
   "outputs": [
    {
     "data": {
      "text/html": [
       "<div>\n",
       "<style scoped>\n",
       "    .dataframe tbody tr th:only-of-type {\n",
       "        vertical-align: middle;\n",
       "    }\n",
       "\n",
       "    .dataframe tbody tr th {\n",
       "        vertical-align: top;\n",
       "    }\n",
       "\n",
       "    .dataframe thead th {\n",
       "        text-align: right;\n",
       "    }\n",
       "</style>\n",
       "<table border=\"1\" class=\"dataframe\">\n",
       "  <thead>\n",
       "    <tr style=\"text-align: right;\">\n",
       "      <th></th>\n",
       "      <th>Book-Author</th>\n",
       "      <th>Book-Rating</th>\n",
       "    </tr>\n",
       "  </thead>\n",
       "  <tbody>\n",
       "    <tr>\n",
       "      <th>127129</th>\n",
       "      <td>Richard Bach</td>\n",
       "      <td>10.0</td>\n",
       "    </tr>\n",
       "    <tr>\n",
       "      <th>125450</th>\n",
       "      <td>Harry Turtledove</td>\n",
       "      <td>10.0</td>\n",
       "    </tr>\n",
       "    <tr>\n",
       "      <th>125460</th>\n",
       "      <td>Lisa Cach</td>\n",
       "      <td>10.0</td>\n",
       "    </tr>\n",
       "    <tr>\n",
       "      <th>125461</th>\n",
       "      <td>ReShonda Tate Billingsley</td>\n",
       "      <td>10.0</td>\n",
       "    </tr>\n",
       "    <tr>\n",
       "      <th>125462</th>\n",
       "      <td>Michael Moorcock</td>\n",
       "      <td>10.0</td>\n",
       "    </tr>\n",
       "    <tr>\n",
       "      <th>...</th>\n",
       "      <td>...</td>\n",
       "      <td>...</td>\n",
       "    </tr>\n",
       "    <tr>\n",
       "      <th>145590</th>\n",
       "      <td>Berta Platas</td>\n",
       "      <td>0.0</td>\n",
       "    </tr>\n",
       "    <tr>\n",
       "      <th>145592</th>\n",
       "      <td>Yolo McClaney</td>\n",
       "      <td>0.0</td>\n",
       "    </tr>\n",
       "    <tr>\n",
       "      <th>145593</th>\n",
       "      <td>Kyle Roderick</td>\n",
       "      <td>0.0</td>\n",
       "    </tr>\n",
       "    <tr>\n",
       "      <th>145595</th>\n",
       "      <td>Lidia Matticchio Bastianich</td>\n",
       "      <td>0.0</td>\n",
       "    </tr>\n",
       "    <tr>\n",
       "      <th>270150</th>\n",
       "      <td>Christopher  Biffle</td>\n",
       "      <td>0.0</td>\n",
       "    </tr>\n",
       "  </tbody>\n",
       "</table>\n",
       "<p>270151 rows × 2 columns</p>\n",
       "</div>"
      ],
      "text/plain": [
       "                        Book-Author  Book-Rating\n",
       "127129                 Richard Bach         10.0\n",
       "125450             Harry Turtledove         10.0\n",
       "125460                    Lisa Cach         10.0\n",
       "125461    ReShonda Tate Billingsley         10.0\n",
       "125462             Michael Moorcock         10.0\n",
       "...                             ...          ...\n",
       "145590                 Berta Platas          0.0\n",
       "145592                Yolo McClaney          0.0\n",
       "145593                Kyle Roderick          0.0\n",
       "145595  Lidia Matticchio Bastianich          0.0\n",
       "270150          Christopher  Biffle          0.0\n",
       "\n",
       "[270151 rows x 2 columns]"
      ]
     },
     "execution_count": 23,
     "metadata": {},
     "output_type": "execute_result"
    }
   ],
   "source": [
    "df_merged1[[\"Book-Author\", \"Book-Rating\"]].sort_values(\"Book-Rating\", ascending=False)"
   ]
  },
  {
   "cell_type": "code",
   "execution_count": 25,
   "id": "e4f0306c",
   "metadata": {
    "ExecuteTime": {
     "end_time": "2022-12-20T21:10:40.985538Z",
     "start_time": "2022-12-20T21:10:40.940659Z"
    }
   },
   "outputs": [
    {
     "data": {
      "text/plain": [
       "False"
      ]
     },
     "execution_count": 25,
     "metadata": {},
     "output_type": "execute_result"
    }
   ],
   "source": [
    "df_merged1['ISBN'].duplicated().any()"
   ]
  },
  {
   "cell_type": "code",
   "execution_count": 26,
   "id": "4e84f508",
   "metadata": {
    "ExecuteTime": {
     "end_time": "2022-12-20T21:10:41.657295Z",
     "start_time": "2022-12-20T21:10:41.356098Z"
    }
   },
   "outputs": [],
   "source": [
    "df_merged2 = df_users.merge(df_ratings, left_on=\"User-ID\", right_on=\"User-ID\", how=\"inner\")"
   ]
  },
  {
   "cell_type": "code",
   "execution_count": 27,
   "id": "730cf763",
   "metadata": {
    "ExecuteTime": {
     "end_time": "2022-12-20T21:10:42.288198Z",
     "start_time": "2022-12-20T21:10:42.266256Z"
    }
   },
   "outputs": [
    {
     "data": {
      "text/html": [
       "<div>\n",
       "<style scoped>\n",
       "    .dataframe tbody tr th:only-of-type {\n",
       "        vertical-align: middle;\n",
       "    }\n",
       "\n",
       "    .dataframe tbody tr th {\n",
       "        vertical-align: top;\n",
       "    }\n",
       "\n",
       "    .dataframe thead th {\n",
       "        text-align: right;\n",
       "    }\n",
       "</style>\n",
       "<table border=\"1\" class=\"dataframe\">\n",
       "  <thead>\n",
       "    <tr style=\"text-align: right;\">\n",
       "      <th></th>\n",
       "      <th>User-ID</th>\n",
       "      <th>Location</th>\n",
       "      <th>Age</th>\n",
       "      <th>ISBN</th>\n",
       "      <th>Book-Rating</th>\n",
       "    </tr>\n",
       "  </thead>\n",
       "  <tbody>\n",
       "    <tr>\n",
       "      <th>0</th>\n",
       "      <td>2</td>\n",
       "      <td>stockton, california, usa</td>\n",
       "      <td>18.0</td>\n",
       "      <td>0195153448</td>\n",
       "      <td>0</td>\n",
       "    </tr>\n",
       "    <tr>\n",
       "      <th>1</th>\n",
       "      <td>7</td>\n",
       "      <td>washington, dc, usa</td>\n",
       "      <td>NaN</td>\n",
       "      <td>034542252</td>\n",
       "      <td>0</td>\n",
       "    </tr>\n",
       "    <tr>\n",
       "      <th>2</th>\n",
       "      <td>8</td>\n",
       "      <td>timmins, ontario, canada</td>\n",
       "      <td>NaN</td>\n",
       "      <td>0002005018</td>\n",
       "      <td>5</td>\n",
       "    </tr>\n",
       "    <tr>\n",
       "      <th>3</th>\n",
       "      <td>8</td>\n",
       "      <td>timmins, ontario, canada</td>\n",
       "      <td>NaN</td>\n",
       "      <td>0060973129</td>\n",
       "      <td>0</td>\n",
       "    </tr>\n",
       "    <tr>\n",
       "      <th>4</th>\n",
       "      <td>8</td>\n",
       "      <td>timmins, ontario, canada</td>\n",
       "      <td>NaN</td>\n",
       "      <td>0374157065</td>\n",
       "      <td>0</td>\n",
       "    </tr>\n",
       "    <tr>\n",
       "      <th>...</th>\n",
       "      <td>...</td>\n",
       "      <td>...</td>\n",
       "      <td>...</td>\n",
       "      <td>...</td>\n",
       "      <td>...</td>\n",
       "    </tr>\n",
       "    <tr>\n",
       "      <th>1149775</th>\n",
       "      <td>278854</td>\n",
       "      <td>portland, oregon, usa</td>\n",
       "      <td>NaN</td>\n",
       "      <td>0425163393</td>\n",
       "      <td>7</td>\n",
       "    </tr>\n",
       "    <tr>\n",
       "      <th>1149776</th>\n",
       "      <td>278854</td>\n",
       "      <td>portland, oregon, usa</td>\n",
       "      <td>NaN</td>\n",
       "      <td>0515087122</td>\n",
       "      <td>0</td>\n",
       "    </tr>\n",
       "    <tr>\n",
       "      <th>1149777</th>\n",
       "      <td>278854</td>\n",
       "      <td>portland, oregon, usa</td>\n",
       "      <td>NaN</td>\n",
       "      <td>0553275739</td>\n",
       "      <td>6</td>\n",
       "    </tr>\n",
       "    <tr>\n",
       "      <th>1149778</th>\n",
       "      <td>278854</td>\n",
       "      <td>portland, oregon, usa</td>\n",
       "      <td>NaN</td>\n",
       "      <td>0553578596</td>\n",
       "      <td>0</td>\n",
       "    </tr>\n",
       "    <tr>\n",
       "      <th>1149779</th>\n",
       "      <td>278854</td>\n",
       "      <td>portland, oregon, usa</td>\n",
       "      <td>NaN</td>\n",
       "      <td>0553579606</td>\n",
       "      <td>8</td>\n",
       "    </tr>\n",
       "  </tbody>\n",
       "</table>\n",
       "<p>1149780 rows × 5 columns</p>\n",
       "</div>"
      ],
      "text/plain": [
       "         User-ID                   Location   Age        ISBN  Book-Rating\n",
       "0              2  stockton, california, usa  18.0  0195153448            0\n",
       "1              7        washington, dc, usa   NaN   034542252            0\n",
       "2              8   timmins, ontario, canada   NaN  0002005018            5\n",
       "3              8   timmins, ontario, canada   NaN  0060973129            0\n",
       "4              8   timmins, ontario, canada   NaN  0374157065            0\n",
       "...          ...                        ...   ...         ...          ...\n",
       "1149775   278854      portland, oregon, usa   NaN  0425163393            7\n",
       "1149776   278854      portland, oregon, usa   NaN  0515087122            0\n",
       "1149777   278854      portland, oregon, usa   NaN  0553275739            6\n",
       "1149778   278854      portland, oregon, usa   NaN  0553578596            0\n",
       "1149779   278854      portland, oregon, usa   NaN  0553579606            8\n",
       "\n",
       "[1149780 rows x 5 columns]"
      ]
     },
     "execution_count": 27,
     "metadata": {},
     "output_type": "execute_result"
    }
   ],
   "source": [
    "df_merged2"
   ]
  },
  {
   "cell_type": "code",
   "execution_count": 28,
   "id": "a89e9118",
   "metadata": {
    "ExecuteTime": {
     "end_time": "2022-12-20T21:10:43.327426Z",
     "start_time": "2022-12-20T21:10:43.302493Z"
    }
   },
   "outputs": [],
   "source": [
    "age_mean = np.round(df_merged2[\"Age\"].mean(),0)"
   ]
  },
  {
   "cell_type": "code",
   "execution_count": 29,
   "id": "f3ae9d9f",
   "metadata": {
    "ExecuteTime": {
     "end_time": "2022-12-20T21:10:48.720358Z",
     "start_time": "2022-12-20T21:10:48.710384Z"
    }
   },
   "outputs": [],
   "source": [
    "df_merged2[\"Age\"].fillna(-2, inplace=True)"
   ]
  },
  {
   "cell_type": "code",
   "execution_count": 30,
   "id": "494b758b",
   "metadata": {
    "ExecuteTime": {
     "end_time": "2022-12-20T21:10:49.204262Z",
     "start_time": "2022-12-20T21:10:49.072817Z"
    }
   },
   "outputs": [],
   "source": [
    "df_merged2.drop([\"Location\"], axis=1, inplace=True)"
   ]
  },
  {
   "cell_type": "code",
   "execution_count": 31,
   "id": "61cbed5f",
   "metadata": {
    "ExecuteTime": {
     "end_time": "2022-12-20T21:10:49.503643Z",
     "start_time": "2022-12-20T21:10:49.378976Z"
    },
    "scrolled": true
   },
   "outputs": [
    {
     "name": "stdout",
     "output_type": "stream",
     "text": [
      "0\n",
      "0\n",
      "0\n",
      "0\n"
     ]
    }
   ],
   "source": [
    "for col in df_merged2.columns:\n",
    "    print(df_merged2[col].isna().sum())"
   ]
  },
  {
   "cell_type": "code",
   "execution_count": 32,
   "id": "f9effb89",
   "metadata": {
    "ExecuteTime": {
     "end_time": "2022-12-20T21:10:49.845925Z",
     "start_time": "2022-12-20T21:10:49.794063Z"
    }
   },
   "outputs": [],
   "source": [
    "bins=[-2,-1,10,18,30,60,100]\n",
    "labels = [\"Unknown Age\", 'Kid (0-10)','Teenager (11-18)','Adult (19-30)','Midle-Age (31-60)','Elderly (61-100)']\n",
    "df_merged2['AgeGroup'] = pd.cut(df_merged2['Age'], bins=bins, labels=labels, right=False)"
   ]
  },
  {
   "cell_type": "code",
   "execution_count": 33,
   "id": "66c1d707",
   "metadata": {
    "ExecuteTime": {
     "end_time": "2022-12-20T21:10:50.696288Z",
     "start_time": "2022-12-20T21:10:50.665371Z"
    }
   },
   "outputs": [
    {
     "data": {
      "text/html": [
       "<div>\n",
       "<style scoped>\n",
       "    .dataframe tbody tr th:only-of-type {\n",
       "        vertical-align: middle;\n",
       "    }\n",
       "\n",
       "    .dataframe tbody tr th {\n",
       "        vertical-align: top;\n",
       "    }\n",
       "\n",
       "    .dataframe thead th {\n",
       "        text-align: right;\n",
       "    }\n",
       "</style>\n",
       "<table border=\"1\" class=\"dataframe\">\n",
       "  <thead>\n",
       "    <tr style=\"text-align: right;\">\n",
       "      <th></th>\n",
       "      <th>User-ID</th>\n",
       "      <th>Age</th>\n",
       "      <th>ISBN</th>\n",
       "      <th>Book-Rating</th>\n",
       "      <th>AgeGroup</th>\n",
       "    </tr>\n",
       "  </thead>\n",
       "  <tbody>\n",
       "    <tr>\n",
       "      <th>0</th>\n",
       "      <td>2</td>\n",
       "      <td>18.0</td>\n",
       "      <td>0195153448</td>\n",
       "      <td>0</td>\n",
       "      <td>Adult (19-30)</td>\n",
       "    </tr>\n",
       "    <tr>\n",
       "      <th>1</th>\n",
       "      <td>7</td>\n",
       "      <td>-2.0</td>\n",
       "      <td>034542252</td>\n",
       "      <td>0</td>\n",
       "      <td>Unknown Age</td>\n",
       "    </tr>\n",
       "    <tr>\n",
       "      <th>2</th>\n",
       "      <td>8</td>\n",
       "      <td>-2.0</td>\n",
       "      <td>0002005018</td>\n",
       "      <td>5</td>\n",
       "      <td>Unknown Age</td>\n",
       "    </tr>\n",
       "    <tr>\n",
       "      <th>3</th>\n",
       "      <td>8</td>\n",
       "      <td>-2.0</td>\n",
       "      <td>0060973129</td>\n",
       "      <td>0</td>\n",
       "      <td>Unknown Age</td>\n",
       "    </tr>\n",
       "    <tr>\n",
       "      <th>4</th>\n",
       "      <td>8</td>\n",
       "      <td>-2.0</td>\n",
       "      <td>0374157065</td>\n",
       "      <td>0</td>\n",
       "      <td>Unknown Age</td>\n",
       "    </tr>\n",
       "    <tr>\n",
       "      <th>...</th>\n",
       "      <td>...</td>\n",
       "      <td>...</td>\n",
       "      <td>...</td>\n",
       "      <td>...</td>\n",
       "      <td>...</td>\n",
       "    </tr>\n",
       "    <tr>\n",
       "      <th>1149775</th>\n",
       "      <td>278854</td>\n",
       "      <td>-2.0</td>\n",
       "      <td>0425163393</td>\n",
       "      <td>7</td>\n",
       "      <td>Unknown Age</td>\n",
       "    </tr>\n",
       "    <tr>\n",
       "      <th>1149776</th>\n",
       "      <td>278854</td>\n",
       "      <td>-2.0</td>\n",
       "      <td>0515087122</td>\n",
       "      <td>0</td>\n",
       "      <td>Unknown Age</td>\n",
       "    </tr>\n",
       "    <tr>\n",
       "      <th>1149777</th>\n",
       "      <td>278854</td>\n",
       "      <td>-2.0</td>\n",
       "      <td>0553275739</td>\n",
       "      <td>6</td>\n",
       "      <td>Unknown Age</td>\n",
       "    </tr>\n",
       "    <tr>\n",
       "      <th>1149778</th>\n",
       "      <td>278854</td>\n",
       "      <td>-2.0</td>\n",
       "      <td>0553578596</td>\n",
       "      <td>0</td>\n",
       "      <td>Unknown Age</td>\n",
       "    </tr>\n",
       "    <tr>\n",
       "      <th>1149779</th>\n",
       "      <td>278854</td>\n",
       "      <td>-2.0</td>\n",
       "      <td>0553579606</td>\n",
       "      <td>8</td>\n",
       "      <td>Unknown Age</td>\n",
       "    </tr>\n",
       "  </tbody>\n",
       "</table>\n",
       "<p>1149780 rows × 5 columns</p>\n",
       "</div>"
      ],
      "text/plain": [
       "         User-ID   Age        ISBN  Book-Rating       AgeGroup\n",
       "0              2  18.0  0195153448            0  Adult (19-30)\n",
       "1              7  -2.0   034542252            0    Unknown Age\n",
       "2              8  -2.0  0002005018            5    Unknown Age\n",
       "3              8  -2.0  0060973129            0    Unknown Age\n",
       "4              8  -2.0  0374157065            0    Unknown Age\n",
       "...          ...   ...         ...          ...            ...\n",
       "1149775   278854  -2.0  0425163393            7    Unknown Age\n",
       "1149776   278854  -2.0  0515087122            0    Unknown Age\n",
       "1149777   278854  -2.0  0553275739            6    Unknown Age\n",
       "1149778   278854  -2.0  0553578596            0    Unknown Age\n",
       "1149779   278854  -2.0  0553579606            8    Unknown Age\n",
       "\n",
       "[1149780 rows x 5 columns]"
      ]
     },
     "execution_count": 33,
     "metadata": {},
     "output_type": "execute_result"
    }
   ],
   "source": [
    "df_merged2"
   ]
  },
  {
   "cell_type": "code",
   "execution_count": 34,
   "id": "db1cb693",
   "metadata": {
    "ExecuteTime": {
     "end_time": "2022-12-20T21:10:51.415248Z",
     "start_time": "2022-12-20T21:10:51.246275Z"
    }
   },
   "outputs": [],
   "source": [
    "df_age_ranges = df_merged2.groupby(\"AgeGroup\").count().reset_index()"
   ]
  },
  {
   "cell_type": "code",
   "execution_count": 35,
   "id": "36d2e99c",
   "metadata": {
    "ExecuteTime": {
     "end_time": "2022-12-20T21:10:52.558954Z",
     "start_time": "2022-12-20T21:10:52.536016Z"
    }
   },
   "outputs": [],
   "source": [
    "df_age_ranges.drop([\"Age\", \"User-ID\"], axis=1, inplace=True)"
   ]
  },
  {
   "cell_type": "code",
   "execution_count": 36,
   "id": "7021c067",
   "metadata": {
    "ExecuteTime": {
     "end_time": "2022-12-20T21:10:52.902832Z",
     "start_time": "2022-12-20T21:10:52.889866Z"
    }
   },
   "outputs": [],
   "source": [
    "df_age_ranges.rename(columns={\"ISBN\": \"Book Count\"}, inplace = True)"
   ]
  },
  {
   "cell_type": "code",
   "execution_count": 37,
   "id": "15520cb1",
   "metadata": {
    "ExecuteTime": {
     "end_time": "2022-12-20T21:10:53.231114Z",
     "start_time": "2022-12-20T21:10:53.187232Z"
    }
   },
   "outputs": [
    {
     "data": {
      "text/html": [
       "<div>\n",
       "<style scoped>\n",
       "    .dataframe tbody tr th:only-of-type {\n",
       "        vertical-align: middle;\n",
       "    }\n",
       "\n",
       "    .dataframe tbody tr th {\n",
       "        vertical-align: top;\n",
       "    }\n",
       "\n",
       "    .dataframe thead th {\n",
       "        text-align: right;\n",
       "    }\n",
       "</style>\n",
       "<table border=\"1\" class=\"dataframe\">\n",
       "  <thead>\n",
       "    <tr style=\"text-align: right;\">\n",
       "      <th></th>\n",
       "      <th>AgeGroup</th>\n",
       "      <th>Book Count</th>\n",
       "      <th>Book-Rating</th>\n",
       "    </tr>\n",
       "  </thead>\n",
       "  <tbody>\n",
       "    <tr>\n",
       "      <th>4</th>\n",
       "      <td>Midle-Age (31-60)</td>\n",
       "      <td>541272</td>\n",
       "      <td>541272</td>\n",
       "    </tr>\n",
       "    <tr>\n",
       "      <th>0</th>\n",
       "      <td>Unknown Age</td>\n",
       "      <td>309492</td>\n",
       "      <td>309492</td>\n",
       "    </tr>\n",
       "    <tr>\n",
       "      <th>3</th>\n",
       "      <td>Adult (19-30)</td>\n",
       "      <td>231345</td>\n",
       "      <td>231345</td>\n",
       "    </tr>\n",
       "    <tr>\n",
       "      <th>5</th>\n",
       "      <td>Elderly (61-100)</td>\n",
       "      <td>38348</td>\n",
       "      <td>38348</td>\n",
       "    </tr>\n",
       "    <tr>\n",
       "      <th>2</th>\n",
       "      <td>Teenager (11-18)</td>\n",
       "      <td>20045</td>\n",
       "      <td>20045</td>\n",
       "    </tr>\n",
       "    <tr>\n",
       "      <th>1</th>\n",
       "      <td>Kid (0-10)</td>\n",
       "      <td>5736</td>\n",
       "      <td>5736</td>\n",
       "    </tr>\n",
       "  </tbody>\n",
       "</table>\n",
       "</div>"
      ],
      "text/plain": [
       "            AgeGroup  Book Count  Book-Rating\n",
       "4  Midle-Age (31-60)      541272       541272\n",
       "0        Unknown Age      309492       309492\n",
       "3      Adult (19-30)      231345       231345\n",
       "5   Elderly (61-100)       38348        38348\n",
       "2   Teenager (11-18)       20045        20045\n",
       "1         Kid (0-10)        5736         5736"
      ]
     },
     "execution_count": 37,
     "metadata": {},
     "output_type": "execute_result"
    }
   ],
   "source": [
    "df_age_ranges.sort_values(\"Book Count\", ascending=False)"
   ]
  },
  {
   "cell_type": "code",
   "execution_count": 38,
   "id": "62241d1a",
   "metadata": {
    "ExecuteTime": {
     "end_time": "2022-12-20T21:10:54.945039Z",
     "start_time": "2022-12-20T21:10:54.232851Z"
    }
   },
   "outputs": [],
   "source": [
    "df_merged3 = df_merged2.merge(df_books, left_on=\"ISBN\", right_on=\"ISBN\", how=\"inner\")"
   ]
  },
  {
   "cell_type": "code",
   "execution_count": 39,
   "id": "d05b4112",
   "metadata": {
    "ExecuteTime": {
     "end_time": "2022-12-20T21:10:55.197076Z",
     "start_time": "2022-12-20T21:10:54.948722Z"
    }
   },
   "outputs": [],
   "source": [
    "df_merged3.drop([\"Image-URL-S\",\n",
    "                 \"Image-URL-M\",\n",
    "                 \"Image-URL-L\",\n",
    "                 \"Year-Of-Publication\",\n",
    "                \"Publisher\"], axis=1, inplace=True)"
   ]
  },
  {
   "cell_type": "code",
   "execution_count": 40,
   "id": "c4c36b70",
   "metadata": {
    "ExecuteTime": {
     "end_time": "2022-12-20T21:10:56.205058Z",
     "start_time": "2022-12-20T21:10:56.193090Z"
    }
   },
   "outputs": [
    {
     "data": {
      "text/plain": [
       "Index(['User-ID', 'Age', 'ISBN', 'Book-Rating', 'AgeGroup', 'Book-Title',\n",
       "       'Book-Author'],\n",
       "      dtype='object')"
      ]
     },
     "execution_count": 40,
     "metadata": {},
     "output_type": "execute_result"
    }
   ],
   "source": [
    "df_merged3.columns"
   ]
  },
  {
   "cell_type": "code",
   "execution_count": 41,
   "id": "edeedc6b",
   "metadata": {
    "ExecuteTime": {
     "end_time": "2022-12-20T21:10:56.679370Z",
     "start_time": "2022-12-20T21:10:56.587748Z"
    }
   },
   "outputs": [],
   "source": [
    "df_cleaned_aged = df_merged3[(df_merged3.Age >0) & (df_merged3.Age <100)] "
   ]
  },
  {
   "cell_type": "code",
   "execution_count": 42,
   "id": "518a7ff6",
   "metadata": {
    "ExecuteTime": {
     "end_time": "2022-12-20T21:10:56.962478Z",
     "start_time": "2022-12-20T21:10:56.926572Z"
    }
   },
   "outputs": [],
   "source": [
    "df_cleaned_rating = df_cleaned_aged[df_cleaned_aged[\"Book-Rating\"]>0]"
   ]
  },
  {
   "cell_type": "code",
   "execution_count": 43,
   "id": "fb365066",
   "metadata": {
    "ExecuteTime": {
     "end_time": "2022-12-20T21:10:57.419768Z",
     "start_time": "2022-12-20T21:10:57.364915Z"
    }
   },
   "outputs": [],
   "source": [
    "df_cleaned_rating = df_cleaned_rating[df_cleaned_rating['Book-Author'].notna()]"
   ]
  },
  {
   "cell_type": "code",
   "execution_count": 44,
   "id": "66c70312",
   "metadata": {
    "ExecuteTime": {
     "end_time": "2022-12-20T21:10:57.811382Z",
     "start_time": "2022-12-20T21:10:57.784455Z"
    }
   },
   "outputs": [
    {
     "data": {
      "text/html": [
       "<div>\n",
       "<style scoped>\n",
       "    .dataframe tbody tr th:only-of-type {\n",
       "        vertical-align: middle;\n",
       "    }\n",
       "\n",
       "    .dataframe tbody tr th {\n",
       "        vertical-align: top;\n",
       "    }\n",
       "\n",
       "    .dataframe thead th {\n",
       "        text-align: right;\n",
       "    }\n",
       "</style>\n",
       "<table border=\"1\" class=\"dataframe\">\n",
       "  <thead>\n",
       "    <tr style=\"text-align: right;\">\n",
       "      <th></th>\n",
       "      <th>User-ID</th>\n",
       "      <th>Age</th>\n",
       "      <th>ISBN</th>\n",
       "      <th>Book-Rating</th>\n",
       "      <th>AgeGroup</th>\n",
       "      <th>Book-Title</th>\n",
       "      <th>Book-Author</th>\n",
       "    </tr>\n",
       "  </thead>\n",
       "  <tbody>\n",
       "    <tr>\n",
       "      <th>5</th>\n",
       "      <td>67544</td>\n",
       "      <td>30.0</td>\n",
       "      <td>0002005018</td>\n",
       "      <td>8</td>\n",
       "      <td>Midle-Age (31-60)</td>\n",
       "      <td>Clara Callan</td>\n",
       "      <td>Richard Bruce Wright</td>\n",
       "    </tr>\n",
       "    <tr>\n",
       "      <th>13</th>\n",
       "      <td>219008</td>\n",
       "      <td>60.0</td>\n",
       "      <td>0002005018</td>\n",
       "      <td>7</td>\n",
       "      <td>Elderly (61-100)</td>\n",
       "      <td>Clara Callan</td>\n",
       "      <td>Richard Bruce Wright</td>\n",
       "    </tr>\n",
       "    <tr>\n",
       "      <th>14</th>\n",
       "      <td>263325</td>\n",
       "      <td>27.0</td>\n",
       "      <td>0002005018</td>\n",
       "      <td>6</td>\n",
       "      <td>Adult (19-30)</td>\n",
       "      <td>Clara Callan</td>\n",
       "      <td>Richard Bruce Wright</td>\n",
       "    </tr>\n",
       "    <tr>\n",
       "      <th>16</th>\n",
       "      <td>2954</td>\n",
       "      <td>71.0</td>\n",
       "      <td>0060973129</td>\n",
       "      <td>8</td>\n",
       "      <td>Elderly (61-100)</td>\n",
       "      <td>Decision in Normandy</td>\n",
       "      <td>Carlo D'Este</td>\n",
       "    </tr>\n",
       "    <tr>\n",
       "      <th>17</th>\n",
       "      <td>152827</td>\n",
       "      <td>40.0</td>\n",
       "      <td>0060973129</td>\n",
       "      <td>7</td>\n",
       "      <td>Midle-Age (31-60)</td>\n",
       "      <td>Decision in Normandy</td>\n",
       "      <td>Carlo D'Este</td>\n",
       "    </tr>\n",
       "    <tr>\n",
       "      <th>...</th>\n",
       "      <td>...</td>\n",
       "      <td>...</td>\n",
       "      <td>...</td>\n",
       "      <td>...</td>\n",
       "      <td>...</td>\n",
       "      <td>...</td>\n",
       "      <td>...</td>\n",
       "    </tr>\n",
       "    <tr>\n",
       "      <th>1031130</th>\n",
       "      <td>278851</td>\n",
       "      <td>33.0</td>\n",
       "      <td>067161746X</td>\n",
       "      <td>7</td>\n",
       "      <td>Midle-Age (31-60)</td>\n",
       "      <td>The Bachelor Home Companion: A Practical Guide...</td>\n",
       "      <td>P.J. O'Rourke</td>\n",
       "    </tr>\n",
       "    <tr>\n",
       "      <th>1031132</th>\n",
       "      <td>278851</td>\n",
       "      <td>33.0</td>\n",
       "      <td>0767907566</td>\n",
       "      <td>5</td>\n",
       "      <td>Midle-Age (31-60)</td>\n",
       "      <td>All Elevations Unknown: An Adventure in the He...</td>\n",
       "      <td>Sam Lightner</td>\n",
       "    </tr>\n",
       "    <tr>\n",
       "      <th>1031133</th>\n",
       "      <td>278851</td>\n",
       "      <td>33.0</td>\n",
       "      <td>0884159221</td>\n",
       "      <td>7</td>\n",
       "      <td>Midle-Age (31-60)</td>\n",
       "      <td>Why stop?: A guide to Texas historical roadsid...</td>\n",
       "      <td>Claude Dooley</td>\n",
       "    </tr>\n",
       "    <tr>\n",
       "      <th>1031134</th>\n",
       "      <td>278851</td>\n",
       "      <td>33.0</td>\n",
       "      <td>0912333022</td>\n",
       "      <td>7</td>\n",
       "      <td>Midle-Age (31-60)</td>\n",
       "      <td>The Are You Being Served? Stories: 'Camping In...</td>\n",
       "      <td>Jeremy Lloyd</td>\n",
       "    </tr>\n",
       "    <tr>\n",
       "      <th>1031135</th>\n",
       "      <td>278851</td>\n",
       "      <td>33.0</td>\n",
       "      <td>1569661057</td>\n",
       "      <td>10</td>\n",
       "      <td>Midle-Age (31-60)</td>\n",
       "      <td>Dallas Street Map Guide and Directory, 2000 Ed...</td>\n",
       "      <td>Mapsco</td>\n",
       "    </tr>\n",
       "  </tbody>\n",
       "</table>\n",
       "<p>268602 rows × 7 columns</p>\n",
       "</div>"
      ],
      "text/plain": [
       "         User-ID   Age        ISBN  Book-Rating           AgeGroup  \\\n",
       "5          67544  30.0  0002005018            8  Midle-Age (31-60)   \n",
       "13        219008  60.0  0002005018            7   Elderly (61-100)   \n",
       "14        263325  27.0  0002005018            6      Adult (19-30)   \n",
       "16          2954  71.0  0060973129            8   Elderly (61-100)   \n",
       "17        152827  40.0  0060973129            7  Midle-Age (31-60)   \n",
       "...          ...   ...         ...          ...                ...   \n",
       "1031130   278851  33.0  067161746X            7  Midle-Age (31-60)   \n",
       "1031132   278851  33.0  0767907566            5  Midle-Age (31-60)   \n",
       "1031133   278851  33.0  0884159221            7  Midle-Age (31-60)   \n",
       "1031134   278851  33.0  0912333022            7  Midle-Age (31-60)   \n",
       "1031135   278851  33.0  1569661057           10  Midle-Age (31-60)   \n",
       "\n",
       "                                                Book-Title  \\\n",
       "5                                             Clara Callan   \n",
       "13                                            Clara Callan   \n",
       "14                                            Clara Callan   \n",
       "16                                    Decision in Normandy   \n",
       "17                                    Decision in Normandy   \n",
       "...                                                    ...   \n",
       "1031130  The Bachelor Home Companion: A Practical Guide...   \n",
       "1031132  All Elevations Unknown: An Adventure in the He...   \n",
       "1031133  Why stop?: A guide to Texas historical roadsid...   \n",
       "1031134  The Are You Being Served? Stories: 'Camping In...   \n",
       "1031135  Dallas Street Map Guide and Directory, 2000 Ed...   \n",
       "\n",
       "                  Book-Author  \n",
       "5        Richard Bruce Wright  \n",
       "13       Richard Bruce Wright  \n",
       "14       Richard Bruce Wright  \n",
       "16               Carlo D'Este  \n",
       "17               Carlo D'Este  \n",
       "...                       ...  \n",
       "1031130         P.J. O'Rourke  \n",
       "1031132          Sam Lightner  \n",
       "1031133         Claude Dooley  \n",
       "1031134          Jeremy Lloyd  \n",
       "1031135                Mapsco  \n",
       "\n",
       "[268602 rows x 7 columns]"
      ]
     },
     "execution_count": 44,
     "metadata": {},
     "output_type": "execute_result"
    }
   ],
   "source": [
    "df_cleaned_rating"
   ]
  },
  {
   "cell_type": "code",
   "execution_count": 45,
   "id": "9cf9de7d",
   "metadata": {
    "ExecuteTime": {
     "end_time": "2022-12-20T21:10:58.441782Z",
     "start_time": "2022-12-20T21:10:58.218148Z"
    }
   },
   "outputs": [],
   "source": [
    "df_count_read_books = df_cleaned_rating.groupby(\"ISBN\")[[\"Book-Rating\"]].count()"
   ]
  },
  {
   "cell_type": "code",
   "execution_count": 46,
   "id": "61e68b42",
   "metadata": {
    "ExecuteTime": {
     "end_time": "2022-12-20T21:10:58.630207Z",
     "start_time": "2022-12-20T21:10:58.612232Z"
    }
   },
   "outputs": [],
   "source": [
    "df_count_read_books = df_count_read_books[df_count_read_books['Book-Rating'] !=1]"
   ]
  },
  {
   "cell_type": "code",
   "execution_count": 47,
   "id": "02a8c654",
   "metadata": {
    "ExecuteTime": {
     "end_time": "2022-12-20T21:10:59.272661Z",
     "start_time": "2022-12-20T21:10:59.248700Z"
    }
   },
   "outputs": [],
   "source": [
    "df_zscore = df_count_read_books.apply(zscore)"
   ]
  },
  {
   "cell_type": "code",
   "execution_count": 50,
   "id": "f9ecadbc",
   "metadata": {
    "ExecuteTime": {
     "end_time": "2022-12-20T21:11:24.126768Z",
     "start_time": "2022-12-20T21:11:24.108815Z"
    }
   },
   "outputs": [],
   "source": [
    "df_zscore_cleaned = df_zscore[df_zscore['Book-Rating']<3]"
   ]
  },
  {
   "cell_type": "code",
   "execution_count": 51,
   "id": "a2c0b3fb",
   "metadata": {
    "ExecuteTime": {
     "end_time": "2022-12-20T21:11:24.533080Z",
     "start_time": "2022-12-20T21:11:24.515127Z"
    }
   },
   "outputs": [
    {
     "name": "stdout",
     "output_type": "stream",
     "text": [
      "2.99213006278261\n",
      "-0.3141661879883812\n"
     ]
    }
   ],
   "source": [
    "print(df_zscore_cleaned['Book-Rating'].max())\n",
    "print(df_zscore['Book-Rating'].min())"
   ]
  },
  {
   "cell_type": "code",
   "execution_count": 52,
   "id": "6f5c7e11",
   "metadata": {
    "ExecuteTime": {
     "end_time": "2022-12-20T21:11:25.704157Z",
     "start_time": "2022-12-20T21:11:25.699168Z"
    }
   },
   "outputs": [],
   "source": [
    "idx = df_zscore_cleaned.index.values"
   ]
  },
  {
   "cell_type": "code",
   "execution_count": 53,
   "id": "3cc446aa",
   "metadata": {
    "ExecuteTime": {
     "end_time": "2022-12-20T21:11:26.833445Z",
     "start_time": "2022-12-20T21:11:26.769983Z"
    }
   },
   "outputs": [],
   "source": [
    "df_final = df_cleaned_rating[df_cleaned_rating[\"ISBN\"].isin(idx)]"
   ]
  },
  {
   "cell_type": "code",
   "execution_count": 54,
   "id": "011eabbe",
   "metadata": {
    "ExecuteTime": {
     "end_time": "2022-12-20T21:11:59.421573Z",
     "start_time": "2022-12-20T21:11:59.415589Z"
    }
   },
   "outputs": [],
   "source": [
    "df_final.reset_index(drop=True, inplace=True)"
   ]
  },
  {
   "cell_type": "code",
   "execution_count": 55,
   "id": "a7d5003f",
   "metadata": {
    "ExecuteTime": {
     "end_time": "2022-12-20T21:12:00.565088Z",
     "start_time": "2022-12-20T21:12:00.545140Z"
    }
   },
   "outputs": [
    {
     "data": {
      "text/html": [
       "<div>\n",
       "<style scoped>\n",
       "    .dataframe tbody tr th:only-of-type {\n",
       "        vertical-align: middle;\n",
       "    }\n",
       "\n",
       "    .dataframe tbody tr th {\n",
       "        vertical-align: top;\n",
       "    }\n",
       "\n",
       "    .dataframe thead th {\n",
       "        text-align: right;\n",
       "    }\n",
       "</style>\n",
       "<table border=\"1\" class=\"dataframe\">\n",
       "  <thead>\n",
       "    <tr style=\"text-align: right;\">\n",
       "      <th></th>\n",
       "      <th>User-ID</th>\n",
       "      <th>Age</th>\n",
       "      <th>ISBN</th>\n",
       "      <th>Book-Rating</th>\n",
       "      <th>AgeGroup</th>\n",
       "      <th>Book-Title</th>\n",
       "      <th>Book-Author</th>\n",
       "    </tr>\n",
       "  </thead>\n",
       "  <tbody>\n",
       "    <tr>\n",
       "      <th>0</th>\n",
       "      <td>67544</td>\n",
       "      <td>30.0</td>\n",
       "      <td>0002005018</td>\n",
       "      <td>8</td>\n",
       "      <td>Midle-Age (31-60)</td>\n",
       "      <td>Clara Callan</td>\n",
       "      <td>Richard Bruce Wright</td>\n",
       "    </tr>\n",
       "    <tr>\n",
       "      <th>1</th>\n",
       "      <td>219008</td>\n",
       "      <td>60.0</td>\n",
       "      <td>0002005018</td>\n",
       "      <td>7</td>\n",
       "      <td>Elderly (61-100)</td>\n",
       "      <td>Clara Callan</td>\n",
       "      <td>Richard Bruce Wright</td>\n",
       "    </tr>\n",
       "    <tr>\n",
       "      <th>2</th>\n",
       "      <td>263325</td>\n",
       "      <td>27.0</td>\n",
       "      <td>0002005018</td>\n",
       "      <td>6</td>\n",
       "      <td>Adult (19-30)</td>\n",
       "      <td>Clara Callan</td>\n",
       "      <td>Richard Bruce Wright</td>\n",
       "    </tr>\n",
       "    <tr>\n",
       "      <th>3</th>\n",
       "      <td>2954</td>\n",
       "      <td>71.0</td>\n",
       "      <td>0060973129</td>\n",
       "      <td>8</td>\n",
       "      <td>Elderly (61-100)</td>\n",
       "      <td>Decision in Normandy</td>\n",
       "      <td>Carlo D'Este</td>\n",
       "    </tr>\n",
       "    <tr>\n",
       "      <th>4</th>\n",
       "      <td>152827</td>\n",
       "      <td>40.0</td>\n",
       "      <td>0060973129</td>\n",
       "      <td>7</td>\n",
       "      <td>Midle-Age (31-60)</td>\n",
       "      <td>Decision in Normandy</td>\n",
       "      <td>Carlo D'Este</td>\n",
       "    </tr>\n",
       "    <tr>\n",
       "      <th>...</th>\n",
       "      <td>...</td>\n",
       "      <td>...</td>\n",
       "      <td>...</td>\n",
       "      <td>...</td>\n",
       "      <td>...</td>\n",
       "      <td>...</td>\n",
       "      <td>...</td>\n",
       "    </tr>\n",
       "    <tr>\n",
       "      <th>153759</th>\n",
       "      <td>272482</td>\n",
       "      <td>40.0</td>\n",
       "      <td>1853045616</td>\n",
       "      <td>10</td>\n",
       "      <td>Midle-Age (31-60)</td>\n",
       "      <td>The Xenophobe's Guide to the Germans</td>\n",
       "      <td>Stephan Ziedenitz</td>\n",
       "    </tr>\n",
       "    <tr>\n",
       "      <th>153760</th>\n",
       "      <td>272715</td>\n",
       "      <td>31.0</td>\n",
       "      <td>0312273150</td>\n",
       "      <td>10</td>\n",
       "      <td>Midle-Age (31-60)</td>\n",
       "      <td>All About All About Eve: The Complete Behind-T...</td>\n",
       "      <td>Sam Staggs</td>\n",
       "    </tr>\n",
       "    <tr>\n",
       "      <th>153761</th>\n",
       "      <td>276263</td>\n",
       "      <td>33.0</td>\n",
       "      <td>0312273150</td>\n",
       "      <td>5</td>\n",
       "      <td>Midle-Age (31-60)</td>\n",
       "      <td>All About All About Eve: The Complete Behind-T...</td>\n",
       "      <td>Sam Staggs</td>\n",
       "    </tr>\n",
       "    <tr>\n",
       "      <th>153762</th>\n",
       "      <td>275383</td>\n",
       "      <td>43.0</td>\n",
       "      <td>0679449132</td>\n",
       "      <td>8</td>\n",
       "      <td>Midle-Age (31-60)</td>\n",
       "      <td>Virtuous Reality: How America Surrendered Disc...</td>\n",
       "      <td>Jon Katz</td>\n",
       "    </tr>\n",
       "    <tr>\n",
       "      <th>153763</th>\n",
       "      <td>275737</td>\n",
       "      <td>54.0</td>\n",
       "      <td>0679449132</td>\n",
       "      <td>5</td>\n",
       "      <td>Midle-Age (31-60)</td>\n",
       "      <td>Virtuous Reality: How America Surrendered Disc...</td>\n",
       "      <td>Jon Katz</td>\n",
       "    </tr>\n",
       "  </tbody>\n",
       "</table>\n",
       "<p>153764 rows × 7 columns</p>\n",
       "</div>"
      ],
      "text/plain": [
       "        User-ID   Age        ISBN  Book-Rating           AgeGroup  \\\n",
       "0         67544  30.0  0002005018            8  Midle-Age (31-60)   \n",
       "1        219008  60.0  0002005018            7   Elderly (61-100)   \n",
       "2        263325  27.0  0002005018            6      Adult (19-30)   \n",
       "3          2954  71.0  0060973129            8   Elderly (61-100)   \n",
       "4        152827  40.0  0060973129            7  Midle-Age (31-60)   \n",
       "...         ...   ...         ...          ...                ...   \n",
       "153759   272482  40.0  1853045616           10  Midle-Age (31-60)   \n",
       "153760   272715  31.0  0312273150           10  Midle-Age (31-60)   \n",
       "153761   276263  33.0  0312273150            5  Midle-Age (31-60)   \n",
       "153762   275383  43.0  0679449132            8  Midle-Age (31-60)   \n",
       "153763   275737  54.0  0679449132            5  Midle-Age (31-60)   \n",
       "\n",
       "                                               Book-Title  \\\n",
       "0                                            Clara Callan   \n",
       "1                                            Clara Callan   \n",
       "2                                            Clara Callan   \n",
       "3                                    Decision in Normandy   \n",
       "4                                    Decision in Normandy   \n",
       "...                                                   ...   \n",
       "153759               The Xenophobe's Guide to the Germans   \n",
       "153760  All About All About Eve: The Complete Behind-T...   \n",
       "153761  All About All About Eve: The Complete Behind-T...   \n",
       "153762  Virtuous Reality: How America Surrendered Disc...   \n",
       "153763  Virtuous Reality: How America Surrendered Disc...   \n",
       "\n",
       "                 Book-Author  \n",
       "0       Richard Bruce Wright  \n",
       "1       Richard Bruce Wright  \n",
       "2       Richard Bruce Wright  \n",
       "3               Carlo D'Este  \n",
       "4               Carlo D'Este  \n",
       "...                      ...  \n",
       "153759     Stephan Ziedenitz  \n",
       "153760            Sam Staggs  \n",
       "153761            Sam Staggs  \n",
       "153762              Jon Katz  \n",
       "153763              Jon Katz  \n",
       "\n",
       "[153764 rows x 7 columns]"
      ]
     },
     "execution_count": 55,
     "metadata": {},
     "output_type": "execute_result"
    }
   ],
   "source": [
    "df_final"
   ]
  },
  {
   "cell_type": "code",
   "execution_count": 56,
   "id": "69308f4e",
   "metadata": {
    "ExecuteTime": {
     "end_time": "2022-12-20T21:12:32.833401Z",
     "start_time": "2022-12-20T21:12:18.255196Z"
    }
   },
   "outputs": [],
   "source": [
    "df_final.to_csv('df_final.csv', index = False)"
   ]
  },
  {
   "cell_type": "code",
   "execution_count": null,
   "id": "f5d9fce5",
   "metadata": {},
   "outputs": [],
   "source": []
  }
 ],
 "metadata": {
  "kernelspec": {
   "display_name": "Python 3 (ipykernel)",
   "language": "python",
   "name": "python3"
  },
  "language_info": {
   "codemirror_mode": {
    "name": "ipython",
    "version": 3
   },
   "file_extension": ".py",
   "mimetype": "text/x-python",
   "name": "python",
   "nbconvert_exporter": "python",
   "pygments_lexer": "ipython3",
   "version": "3.8.11"
  }
 },
 "nbformat": 4,
 "nbformat_minor": 5
}
