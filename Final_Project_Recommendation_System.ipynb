{
 "cells": [
  {
   "cell_type": "code",
   "execution_count": 1,
   "id": "96bda230",
   "metadata": {
    "ExecuteTime": {
     "end_time": "2022-12-20T21:22:26.739395Z",
     "start_time": "2022-12-20T21:22:26.152694Z"
    }
   },
   "outputs": [],
   "source": [
    "import pandas as pd"
   ]
  },
  {
   "cell_type": "code",
   "execution_count": 2,
   "id": "c4240faf",
   "metadata": {
    "ExecuteTime": {
     "end_time": "2022-12-20T21:22:26.786769Z",
     "start_time": "2022-12-20T21:22:26.745386Z"
    }
   },
   "outputs": [],
   "source": [
    "df = pd.read_csv(\"User-Pairs-Books.data.csv\")\n",
    "df['first_User_ID'] = df['first_User_ID'].astype(\"int\")\n",
    "df['second_User_ID'] = df['second_User_ID'].astype(\"int\")"
   ]
  },
  {
   "cell_type": "code",
   "execution_count": 3,
   "id": "b8c08fc3",
   "metadata": {
    "ExecuteTime": {
     "end_time": "2022-12-20T21:22:26.818685Z",
     "start_time": "2022-12-20T21:22:26.808711Z"
    }
   },
   "outputs": [],
   "source": [
    "df_100  = pd.read_csv(\"df_100.csv\")"
   ]
  },
  {
   "cell_type": "code",
   "execution_count": 4,
   "id": "69b634a1",
   "metadata": {
    "ExecuteTime": {
     "end_time": "2022-12-20T21:22:27.224283Z",
     "start_time": "2022-12-20T21:22:27.191371Z"
    }
   },
   "outputs": [
    {
     "data": {
      "text/html": [
       "<div>\n",
       "<style scoped>\n",
       "    .dataframe tbody tr th:only-of-type {\n",
       "        vertical-align: middle;\n",
       "    }\n",
       "\n",
       "    .dataframe tbody tr th {\n",
       "        vertical-align: top;\n",
       "    }\n",
       "\n",
       "    .dataframe thead th {\n",
       "        text-align: right;\n",
       "    }\n",
       "</style>\n",
       "<table border=\"1\" class=\"dataframe\">\n",
       "  <thead>\n",
       "    <tr style=\"text-align: right;\">\n",
       "      <th></th>\n",
       "      <th>User-ID</th>\n",
       "      <th>Age</th>\n",
       "      <th>ISBN</th>\n",
       "      <th>Book-Rating</th>\n",
       "      <th>AgeGroup</th>\n",
       "      <th>Book-Title</th>\n",
       "      <th>Book-Author</th>\n",
       "    </tr>\n",
       "  </thead>\n",
       "  <tbody>\n",
       "    <tr>\n",
       "      <th>0</th>\n",
       "      <td>67544</td>\n",
       "      <td>30.0</td>\n",
       "      <td>2005018</td>\n",
       "      <td>8</td>\n",
       "      <td>Midle-Age (31-60)</td>\n",
       "      <td>Clara Callan</td>\n",
       "      <td>Richard Bruce Wright</td>\n",
       "    </tr>\n",
       "    <tr>\n",
       "      <th>1</th>\n",
       "      <td>219008</td>\n",
       "      <td>60.0</td>\n",
       "      <td>2005018</td>\n",
       "      <td>7</td>\n",
       "      <td>Elderly (61-100)</td>\n",
       "      <td>Clara Callan</td>\n",
       "      <td>Richard Bruce Wright</td>\n",
       "    </tr>\n",
       "    <tr>\n",
       "      <th>2</th>\n",
       "      <td>263325</td>\n",
       "      <td>27.0</td>\n",
       "      <td>2005018</td>\n",
       "      <td>6</td>\n",
       "      <td>Adult (19-30)</td>\n",
       "      <td>Clara Callan</td>\n",
       "      <td>Richard Bruce Wright</td>\n",
       "    </tr>\n",
       "    <tr>\n",
       "      <th>3</th>\n",
       "      <td>2954</td>\n",
       "      <td>71.0</td>\n",
       "      <td>60973129</td>\n",
       "      <td>8</td>\n",
       "      <td>Elderly (61-100)</td>\n",
       "      <td>Decision in Normandy</td>\n",
       "      <td>Carlo D'Este</td>\n",
       "    </tr>\n",
       "    <tr>\n",
       "      <th>4</th>\n",
       "      <td>152827</td>\n",
       "      <td>40.0</td>\n",
       "      <td>60973129</td>\n",
       "      <td>7</td>\n",
       "      <td>Midle-Age (31-60)</td>\n",
       "      <td>Decision in Normandy</td>\n",
       "      <td>Carlo D'Este</td>\n",
       "    </tr>\n",
       "    <tr>\n",
       "      <th>...</th>\n",
       "      <td>...</td>\n",
       "      <td>...</td>\n",
       "      <td>...</td>\n",
       "      <td>...</td>\n",
       "      <td>...</td>\n",
       "      <td>...</td>\n",
       "      <td>...</td>\n",
       "    </tr>\n",
       "    <tr>\n",
       "      <th>95</th>\n",
       "      <td>111637</td>\n",
       "      <td>53.0</td>\n",
       "      <td>375759778</td>\n",
       "      <td>9</td>\n",
       "      <td>Midle-Age (31-60)</td>\n",
       "      <td>Prague : A Novel</td>\n",
       "      <td>ARTHUR PHILLIPS</td>\n",
       "    </tr>\n",
       "    <tr>\n",
       "      <th>96</th>\n",
       "      <td>219008</td>\n",
       "      <td>60.0</td>\n",
       "      <td>375759778</td>\n",
       "      <td>7</td>\n",
       "      <td>Elderly (61-100)</td>\n",
       "      <td>Prague : A Novel</td>\n",
       "      <td>ARTHUR PHILLIPS</td>\n",
       "    </tr>\n",
       "    <tr>\n",
       "      <th>97</th>\n",
       "      <td>235867</td>\n",
       "      <td>36.0</td>\n",
       "      <td>375759778</td>\n",
       "      <td>7</td>\n",
       "      <td>Midle-Age (31-60)</td>\n",
       "      <td>Prague : A Novel</td>\n",
       "      <td>ARTHUR PHILLIPS</td>\n",
       "    </tr>\n",
       "    <tr>\n",
       "      <th>98</th>\n",
       "      <td>95703</td>\n",
       "      <td>31.0</td>\n",
       "      <td>425163091</td>\n",
       "      <td>9</td>\n",
       "      <td>Midle-Age (31-60)</td>\n",
       "      <td>Chocolate Jesus</td>\n",
       "      <td>Stephan Jaramillo</td>\n",
       "    </tr>\n",
       "    <tr>\n",
       "      <th>99</th>\n",
       "      <td>101606</td>\n",
       "      <td>32.0</td>\n",
       "      <td>425163091</td>\n",
       "      <td>6</td>\n",
       "      <td>Midle-Age (31-60)</td>\n",
       "      <td>Chocolate Jesus</td>\n",
       "      <td>Stephan Jaramillo</td>\n",
       "    </tr>\n",
       "  </tbody>\n",
       "</table>\n",
       "<p>100 rows × 7 columns</p>\n",
       "</div>"
      ],
      "text/plain": [
       "    User-ID   Age       ISBN  Book-Rating           AgeGroup  \\\n",
       "0     67544  30.0    2005018            8  Midle-Age (31-60)   \n",
       "1    219008  60.0    2005018            7   Elderly (61-100)   \n",
       "2    263325  27.0    2005018            6      Adult (19-30)   \n",
       "3      2954  71.0   60973129            8   Elderly (61-100)   \n",
       "4    152827  40.0   60973129            7  Midle-Age (31-60)   \n",
       "..      ...   ...        ...          ...                ...   \n",
       "95   111637  53.0  375759778            9  Midle-Age (31-60)   \n",
       "96   219008  60.0  375759778            7   Elderly (61-100)   \n",
       "97   235867  36.0  375759778            7  Midle-Age (31-60)   \n",
       "98    95703  31.0  425163091            9  Midle-Age (31-60)   \n",
       "99   101606  32.0  425163091            6  Midle-Age (31-60)   \n",
       "\n",
       "              Book-Title           Book-Author  \n",
       "0           Clara Callan  Richard Bruce Wright  \n",
       "1           Clara Callan  Richard Bruce Wright  \n",
       "2           Clara Callan  Richard Bruce Wright  \n",
       "3   Decision in Normandy          Carlo D'Este  \n",
       "4   Decision in Normandy          Carlo D'Este  \n",
       "..                   ...                   ...  \n",
       "95      Prague : A Novel       ARTHUR PHILLIPS  \n",
       "96      Prague : A Novel       ARTHUR PHILLIPS  \n",
       "97      Prague : A Novel       ARTHUR PHILLIPS  \n",
       "98       Chocolate Jesus     Stephan Jaramillo  \n",
       "99       Chocolate Jesus     Stephan Jaramillo  \n",
       "\n",
       "[100 rows x 7 columns]"
      ]
     },
     "execution_count": 4,
     "metadata": {},
     "output_type": "execute_result"
    }
   ],
   "source": [
    "df_100"
   ]
  },
  {
   "cell_type": "code",
   "execution_count": 5,
   "id": "1f82e0fa",
   "metadata": {
    "ExecuteTime": {
     "end_time": "2022-12-20T21:22:27.698365Z",
     "start_time": "2022-12-20T21:22:27.683404Z"
    }
   },
   "outputs": [],
   "source": [
    "train = df_100[0:99]\n",
    "users_info = df_100[99:]\n",
    "users_info.reset_index(drop=True, inplace=True)"
   ]
  },
  {
   "cell_type": "code",
   "execution_count": 6,
   "id": "d284ccb3",
   "metadata": {
    "ExecuteTime": {
     "end_time": "2022-12-20T21:22:28.357290Z",
     "start_time": "2022-12-20T21:22:28.334351Z"
    }
   },
   "outputs": [
    {
     "data": {
      "text/html": [
       "<div>\n",
       "<style scoped>\n",
       "    .dataframe tbody tr th:only-of-type {\n",
       "        vertical-align: middle;\n",
       "    }\n",
       "\n",
       "    .dataframe tbody tr th {\n",
       "        vertical-align: top;\n",
       "    }\n",
       "\n",
       "    .dataframe thead th {\n",
       "        text-align: right;\n",
       "    }\n",
       "</style>\n",
       "<table border=\"1\" class=\"dataframe\">\n",
       "  <thead>\n",
       "    <tr style=\"text-align: right;\">\n",
       "      <th></th>\n",
       "      <th>User-ID</th>\n",
       "      <th>Age</th>\n",
       "      <th>ISBN</th>\n",
       "      <th>Book-Rating</th>\n",
       "      <th>AgeGroup</th>\n",
       "      <th>Book-Title</th>\n",
       "      <th>Book-Author</th>\n",
       "    </tr>\n",
       "  </thead>\n",
       "  <tbody>\n",
       "    <tr>\n",
       "      <th>0</th>\n",
       "      <td>101606</td>\n",
       "      <td>32.0</td>\n",
       "      <td>425163091</td>\n",
       "      <td>6</td>\n",
       "      <td>Midle-Age (31-60)</td>\n",
       "      <td>Chocolate Jesus</td>\n",
       "      <td>Stephan Jaramillo</td>\n",
       "    </tr>\n",
       "  </tbody>\n",
       "</table>\n",
       "</div>"
      ],
      "text/plain": [
       "   User-ID   Age       ISBN  Book-Rating           AgeGroup       Book-Title  \\\n",
       "0   101606  32.0  425163091            6  Midle-Age (31-60)  Chocolate Jesus   \n",
       "\n",
       "         Book-Author  \n",
       "0  Stephan Jaramillo  "
      ]
     },
     "execution_count": 6,
     "metadata": {},
     "output_type": "execute_result"
    }
   ],
   "source": [
    "users_info"
   ]
  },
  {
   "cell_type": "code",
   "execution_count": 7,
   "id": "4c98994e",
   "metadata": {
    "ExecuteTime": {
     "end_time": "2022-12-20T21:22:28.906720Z",
     "start_time": "2022-12-20T21:22:28.889765Z"
    }
   },
   "outputs": [],
   "source": [
    "def recommend_me_books(train, user_info):\n",
    "    #user_info = pd.DataFrame(user_info).T\n",
    "    user = user_info['User-ID'].values[0]\n",
    "    top_5 = df[(df['first_User_ID'] ==user) | (df['second_User_ID'] ==user)].sort_values(\"cosine_similarity\",ascending=False).head(5)  \n",
    "\n",
    "    ## USERS\n",
    "    first_User_ID_lst = list(top_5['first_User_ID'])\n",
    "    second_User_ID_lst = list(top_5['second_User_ID'])\n",
    "\n",
    "    first_User_ID_lst.extend(second_User_ID_lst)\n",
    "\n",
    "    all_users_lst = list(set(first_User_ID_lst))\n",
    "\n",
    "    all_users_lst.remove(user)\n",
    "\n",
    "    age_group = user_info['AgeGroup'].values[0]\n",
    "\n",
    "    books_user_has_read = list(train[train[\"User-ID\"]==user]['Book-Title'])\n",
    "\n",
    "    books_similar_users_to_the_user_have_read  =list(train[(train[\"User-ID\"].isin(all_users_lst)) & (train[\"AgeGroup\"] == age_group)]['Book-Title'])\n",
    "\n",
    "    for book in books_user_has_read:\n",
    "        if book in books_similar_users_to_the_user_have_read:\n",
    "            books_similar_users_to_the_user_have_read.remove(book)\n",
    "    return books_similar_users_to_the_user_have_read"
   ]
  },
  {
   "cell_type": "code",
   "execution_count": 8,
   "id": "00958c2f",
   "metadata": {
    "ExecuteTime": {
     "end_time": "2022-12-20T21:22:29.531249Z",
     "start_time": "2022-12-20T21:22:29.508309Z"
    }
   },
   "outputs": [
    {
     "data": {
      "text/plain": [
       "['Decision in Normandy', 'Chocolate Jesus']"
      ]
     },
     "execution_count": 8,
     "metadata": {},
     "output_type": "execute_result"
    }
   ],
   "source": [
    "recommend_me_books(train, users_info)"
   ]
  },
  {
   "cell_type": "code",
   "execution_count": null,
   "id": "8db45b92",
   "metadata": {},
   "outputs": [],
   "source": []
  }
 ],
 "metadata": {
  "kernelspec": {
   "display_name": "Python 3 (ipykernel)",
   "language": "python",
   "name": "python3"
  },
  "language_info": {
   "codemirror_mode": {
    "name": "ipython",
    "version": 3
   },
   "file_extension": ".py",
   "mimetype": "text/x-python",
   "name": "python",
   "nbconvert_exporter": "python",
   "pygments_lexer": "ipython3",
   "version": "3.8.11"
  }
 },
 "nbformat": 4,
 "nbformat_minor": 5
}
